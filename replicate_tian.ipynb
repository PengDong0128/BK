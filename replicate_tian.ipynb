{
 "cells": [
  {
   "cell_type": "markdown",
   "metadata": {},
   "source": [
    "### data understanding, data source from tian \n",
    "- AnnualManufactoring.csv no duplicate cusip and mdate pair"
   ]
  },
  {
   "cell_type": "code",
   "execution_count": 1,
   "metadata": {
    "collapsed": true
   },
   "outputs": [],
   "source": [
    "import pandas as pd\n",
    "import numpy as np\n",
    "import matplotlib.pyplot as plt\n",
    "%matplotlib inline\n",
    "\n",
    "def print_null_freq(df):\n",
    "    \"\"\"\n",
    "    for a given DataFrame, calculates how many values for\n",
    "    each variable is null and prints the resulting table to stdout\n",
    "    \"\"\"\n",
    "    df_lng = pd.melt(df)\n",
    "    null_variables = df_lng.value.isnull()\n",
    "    return pd.crosstab(df_lng.variable, null_variables)\n",
    "\n",
    "def check_duplicate_row(df,column_names):\n",
    "    \"\"\"\n",
    "    for a given dataframe and column names, return the unique rows of those columns, if no duplicates, return null\n",
    "    input:\n",
    "    df: pandas dataframe\n",
    "    column_names: list of column names\n",
    "    output:\n",
    "    dataframe or null\n",
    "    \"\"\"\n",
    "    "
   ]
  },
  {
   "cell_type": "code",
   "execution_count": 2,
   "metadata": {
    "collapsed": false
   },
   "outputs": [],
   "source": [
    "final_variable = pd.read_csv('data/tian_data/AnnualManufactoring.csv')"
   ]
  },
  {
   "cell_type": "code",
   "execution_count": 3,
   "metadata": {
    "collapsed": false
   },
   "outputs": [
    {
     "data": {
      "text/plain": [
       "Index(['cusip', 'mdate', 'sigma', 'exrcamp', 'NIMTA', 'LTMTA', 'CASHMTA',\n",
       "       'rsize', 'MBE', 'prc2', 'X1', 'X2', 'X3', 'X4', 'X5', 'X6', 'X7', 'X8',\n",
       "       'X9', 'X12', 'X11', 'X10', 'X13', 'X14', 'X15', 'X16', 'X17', 'X18',\n",
       "       'X19', 'X20', 'X21', 'X22', 'X23', 'X24', 'X25', 'X26', 'X27', 'X28',\n",
       "       'LTAT', 'FMTA', 'LCTMTA', 'LCTAT', 'FAT', 'Default'],\n",
       "      dtype='object')"
      ]
     },
     "execution_count": 3,
     "metadata": {},
     "output_type": "execute_result"
    }
   ],
   "source": [
    "final_variable.columns"
   ]
  },
  {
   "cell_type": "code",
   "execution_count": 4,
   "metadata": {
    "collapsed": false
   },
   "outputs": [
    {
     "data": {
      "text/html": [
       "<div>\n",
       "<table border=\"1\" class=\"dataframe\">\n",
       "  <thead>\n",
       "    <tr style=\"text-align: right;\">\n",
       "      <th></th>\n",
       "      <th>cusip</th>\n",
       "      <th>mdate</th>\n",
       "      <th>sigma</th>\n",
       "      <th>exrcamp</th>\n",
       "      <th>NIMTA</th>\n",
       "      <th>LTMTA</th>\n",
       "      <th>CASHMTA</th>\n",
       "      <th>rsize</th>\n",
       "      <th>MBE</th>\n",
       "      <th>prc2</th>\n",
       "      <th>...</th>\n",
       "      <th>X25</th>\n",
       "      <th>X26</th>\n",
       "      <th>X27</th>\n",
       "      <th>X28</th>\n",
       "      <th>LTAT</th>\n",
       "      <th>FMTA</th>\n",
       "      <th>LCTMTA</th>\n",
       "      <th>LCTAT</th>\n",
       "      <th>FAT</th>\n",
       "      <th>Default</th>\n",
       "    </tr>\n",
       "  </thead>\n",
       "  <tbody>\n",
       "    <tr>\n",
       "      <th>0</th>\n",
       "      <td>000370106</td>\n",
       "      <td>198012</td>\n",
       "      <td>0.706719</td>\n",
       "      <td>0.120725</td>\n",
       "      <td>0.015309</td>\n",
       "      <td>0.194483</td>\n",
       "      <td>0.008908</td>\n",
       "      <td>-10.562553</td>\n",
       "      <td>4.295700</td>\n",
       "      <td>2.708050</td>\n",
       "      <td>...</td>\n",
       "      <td>-0.992452</td>\n",
       "      <td>-0.124699</td>\n",
       "      <td>0.001148</td>\n",
       "      <td>0.405362</td>\n",
       "      <td>0.620690</td>\n",
       "      <td>74.006334</td>\n",
       "      <td>0.135921</td>\n",
       "      <td>0.433791</td>\n",
       "      <td>236.190682</td>\n",
       "      <td>0</td>\n",
       "    </tr>\n",
       "    <tr>\n",
       "      <th>1</th>\n",
       "      <td>000370106</td>\n",
       "      <td>198112</td>\n",
       "      <td>0.574407</td>\n",
       "      <td>0.108155</td>\n",
       "      <td>0.035766</td>\n",
       "      <td>0.333330</td>\n",
       "      <td>0.035457</td>\n",
       "      <td>-10.806133</td>\n",
       "      <td>2.181356</td>\n",
       "      <td>2.505526</td>\n",
       "      <td>...</td>\n",
       "      <td>-0.992452</td>\n",
       "      <td>-0.124699</td>\n",
       "      <td>0.012837</td>\n",
       "      <td>-0.474171</td>\n",
       "      <td>0.556631</td>\n",
       "      <td>43.471963</td>\n",
       "      <td>0.224138</td>\n",
       "      <td>0.374291</td>\n",
       "      <td>72.594169</td>\n",
       "      <td>0</td>\n",
       "    </tr>\n",
       "    <tr>\n",
       "      <th>2</th>\n",
       "      <td>000775106</td>\n",
       "      <td>198412</td>\n",
       "      <td>0.776508</td>\n",
       "      <td>-0.025235</td>\n",
       "      <td>-0.295940</td>\n",
       "      <td>0.254810</td>\n",
       "      <td>0.160510</td>\n",
       "      <td>-13.194523</td>\n",
       "      <td>2.414253</td>\n",
       "      <td>-0.098440</td>\n",
       "      <td>...</td>\n",
       "      <td>-0.992452</td>\n",
       "      <td>-0.124699</td>\n",
       "      <td>0.089323</td>\n",
       "      <td>0.372078</td>\n",
       "      <td>0.494805</td>\n",
       "      <td>19.562151</td>\n",
       "      <td>0.235080</td>\n",
       "      <td>0.456494</td>\n",
       "      <td>37.987013</td>\n",
       "      <td>0</td>\n",
       "    </tr>\n",
       "    <tr>\n",
       "      <th>3</th>\n",
       "      <td>000775106</td>\n",
       "      <td>198512</td>\n",
       "      <td>0.793844</td>\n",
       "      <td>-0.196564</td>\n",
       "      <td>-0.175986</td>\n",
       "      <td>0.190895</td>\n",
       "      <td>0.070654</td>\n",
       "      <td>-13.293126</td>\n",
       "      <td>4.194006</td>\n",
       "      <td>-0.724896</td>\n",
       "      <td>...</td>\n",
       "      <td>-0.992452</td>\n",
       "      <td>-0.124699</td>\n",
       "      <td>0.017173</td>\n",
       "      <td>0.218911</td>\n",
       "      <td>0.605344</td>\n",
       "      <td>32.409986</td>\n",
       "      <td>0.139687</td>\n",
       "      <td>0.442960</td>\n",
       "      <td>102.774923</td>\n",
       "      <td>0</td>\n",
       "    </tr>\n",
       "    <tr>\n",
       "      <th>4</th>\n",
       "      <td>000775106</td>\n",
       "      <td>198612</td>\n",
       "      <td>0.509576</td>\n",
       "      <td>-0.195245</td>\n",
       "      <td>-0.131457</td>\n",
       "      <td>0.054470</td>\n",
       "      <td>0.069536</td>\n",
       "      <td>-12.588314</td>\n",
       "      <td>4.994316</td>\n",
       "      <td>-0.693147</td>\n",
       "      <td>...</td>\n",
       "      <td>-0.992452</td>\n",
       "      <td>-0.124699</td>\n",
       "      <td>0.653698</td>\n",
       "      <td>-0.013472</td>\n",
       "      <td>0.340933</td>\n",
       "      <td>3.973510</td>\n",
       "      <td>0.050828</td>\n",
       "      <td>0.318135</td>\n",
       "      <td>24.870466</td>\n",
       "      <td>0</td>\n",
       "    </tr>\n",
       "  </tbody>\n",
       "</table>\n",
       "<p>5 rows × 44 columns</p>\n",
       "</div>"
      ],
      "text/plain": [
       "       cusip   mdate     sigma   exrcamp     NIMTA     LTMTA   CASHMTA  \\\n",
       "0  000370106  198012  0.706719  0.120725  0.015309  0.194483  0.008908   \n",
       "1  000370106  198112  0.574407  0.108155  0.035766  0.333330  0.035457   \n",
       "2  000775106  198412  0.776508 -0.025235 -0.295940  0.254810  0.160510   \n",
       "3  000775106  198512  0.793844 -0.196564 -0.175986  0.190895  0.070654   \n",
       "4  000775106  198612  0.509576 -0.195245 -0.131457  0.054470  0.069536   \n",
       "\n",
       "       rsize       MBE      prc2   ...          X25       X26       X27  \\\n",
       "0 -10.562553  4.295700  2.708050   ...    -0.992452 -0.124699  0.001148   \n",
       "1 -10.806133  2.181356  2.505526   ...    -0.992452 -0.124699  0.012837   \n",
       "2 -13.194523  2.414253 -0.098440   ...    -0.992452 -0.124699  0.089323   \n",
       "3 -13.293126  4.194006 -0.724896   ...    -0.992452 -0.124699  0.017173   \n",
       "4 -12.588314  4.994316 -0.693147   ...    -0.992452 -0.124699  0.653698   \n",
       "\n",
       "        X28      LTAT       FMTA    LCTMTA     LCTAT         FAT  Default  \n",
       "0  0.405362  0.620690  74.006334  0.135921  0.433791  236.190682        0  \n",
       "1 -0.474171  0.556631  43.471963  0.224138  0.374291   72.594169        0  \n",
       "2  0.372078  0.494805  19.562151  0.235080  0.456494   37.987013        0  \n",
       "3  0.218911  0.605344  32.409986  0.139687  0.442960  102.774923        0  \n",
       "4 -0.013472  0.340933   3.973510  0.050828  0.318135   24.870466        0  \n",
       "\n",
       "[5 rows x 44 columns]"
      ]
     },
     "execution_count": 4,
     "metadata": {},
     "output_type": "execute_result"
    }
   ],
   "source": [
    "final_variable.head()"
   ]
  },
  {
   "cell_type": "code",
   "execution_count": 5,
   "metadata": {
    "collapsed": false
   },
   "outputs": [
    {
     "data": {
      "text/plain": [
       "(47189, 44)"
      ]
     },
     "execution_count": 5,
     "metadata": {},
     "output_type": "execute_result"
    }
   ],
   "source": [
    "final_variable.shape"
   ]
  },
  {
   "cell_type": "code",
   "execution_count": 6,
   "metadata": {
    "collapsed": false
   },
   "outputs": [
    {
     "data": {
      "text/plain": [
       "311"
      ]
     },
     "execution_count": 6,
     "metadata": {},
     "output_type": "execute_result"
    }
   ],
   "source": [
    "final_variable['Default'].sum()"
   ]
  },
  {
   "cell_type": "code",
   "execution_count": 7,
   "metadata": {
    "collapsed": false
   },
   "outputs": [
    {
     "data": {
      "text/plain": [
       "array([198012, 198112, 198412, 198512, 198612, 198712, 198812, 198912,\n",
       "       199912, 200012, 198312, 199012, 199112, 199212, 199312, 199412,\n",
       "       198212, 199512, 199612, 199712, 199812, 200112, 200212, 200312,\n",
       "       200412, 200512, 200612, 200712, 200812])"
      ]
     },
     "execution_count": 7,
     "metadata": {},
     "output_type": "execute_result"
    }
   ],
   "source": [
    "final_variable['mdate'].unique()"
   ]
  },
  {
   "cell_type": "code",
   "execution_count": 8,
   "metadata": {
    "collapsed": false
   },
   "outputs": [],
   "source": [
    "#final_variable = final_variable.replace([np.inf,-np.inf],0)\n",
    "dat_tmp = final_variable.copy()\n",
    "dat_tmp['mdate'] = dat_tmp['mdate'] +100\n",
    "dat_tmp = dat_tmp.drop('Default',axis =1)\n",
    "Ys = final_variable[['mdate','cusip','Default']]\n",
    "one_year = pd.merge(dat_tmp,Ys,how = 'inner',on=['mdate','cusip'])"
   ]
  },
  {
   "cell_type": "code",
   "execution_count": 9,
   "metadata": {
    "collapsed": false
   },
   "outputs": [
    {
     "data": {
      "text/plain": [
       "(41003, 44)"
      ]
     },
     "execution_count": 9,
     "metadata": {},
     "output_type": "execute_result"
    }
   ],
   "source": [
    "one_year.shape"
   ]
  },
  {
   "cell_type": "code",
   "execution_count": 10,
   "metadata": {
    "collapsed": false
   },
   "outputs": [
    {
     "data": {
      "text/plain": [
       "254"
      ]
     },
     "execution_count": 10,
     "metadata": {},
     "output_type": "execute_result"
    }
   ],
   "source": [
    "one_year['Default'].sum()"
   ]
  },
  {
   "cell_type": "code",
   "execution_count": 11,
   "metadata": {
    "collapsed": false
   },
   "outputs": [],
   "source": [
    "drop_list = ['cusip','mdate','X14','X28']# drop X14 and X28, not in Tian's SAS code, total 39 variables, just like in the paper\n",
    "train = one_year[one_year['mdate']<200312]\n",
    "test = one_year[one_year['mdate']>=200312]\n",
    "train = train.drop(drop_list,axis = 1)\n",
    "test = test.drop(drop_list,axis = 1)\n",
    "x_train = train.ix[:,0:-1]\n",
    "y_train = train.ix[:,-1]\n",
    "x_test = test.ix[:,0:-1]\n",
    "y_test = test.ix[:,-1]"
   ]
  },
  {
   "cell_type": "code",
   "execution_count": 12,
   "metadata": {
    "collapsed": false
   },
   "outputs": [],
   "source": [
    "feature_name = x_train.columns"
   ]
  },
  {
   "cell_type": "code",
   "execution_count": 13,
   "metadata": {
    "collapsed": false
   },
   "outputs": [],
   "source": [
    "# functions to report result\n",
    "def get_prob_auc(clf,x,y):\n",
    "    probas_= clf.predict_proba(x)\n",
    "    probas_=probas_[:,1]\n",
    "    fpr,tpr,thresholds = roc_curve(y,probas_)\n",
    "    roc_auc = roc_auc_score(y,probas_)\n",
    "    accuracy_ratio = (roc_auc-0.5)*2\n",
    "    return probas_,accuracy_ratio\n",
    "def tencile_table(test,p):\n",
    "    tenc_dat = pd.DataFrame({'y_true':test,'probability':p})\n",
    "    tenc_dat.sort('probability',axis = 0,ascending=False, inplace = True)\n",
    "    tenc_dat.index = range(0,len(tenc_dat))\n",
    "    y = tenc_dat['y_true']\n",
    "    point = float(len(tenc_dat))/10\n",
    "    point = int(round(point))\n",
    "    tenc = []\n",
    "    for i in range(0,10):\n",
    "        tenc.append(y[(i*point):((i+1)*point)])\n",
    "    tenc[9]=tenc[9].append(y[10*point:])\n",
    "    total = sum(y)\n",
    "    num_of_bkr = []\n",
    "    for j in range(0,10):\n",
    "        num_of_bkr.append(sum(tenc[j]))\n",
    "    tencile_bkr = np.array(num_of_bkr)\n",
    "    rate = tencile_bkr.astype(float)/total\n",
    "    tencile_result=pd.DataFrame({'Group':range(1,11),'Rate':rate})\n",
    "    return tencile_result"
   ]
  },
  {
   "cell_type": "code",
   "execution_count": 14,
   "metadata": {
    "collapsed": false
   },
   "outputs": [],
   "source": [
    "from sklearn.linear_model import LogisticRegression\n",
    "lg = LogisticRegression(C = 0.01,penalty='l1')\n",
    "lg.fit(x_train,y_train)\n",
    "model_coef = lg.coef_[0]"
   ]
  },
  {
   "cell_type": "code",
   "execution_count": 15,
   "metadata": {
    "collapsed": false
   },
   "outputs": [
    {
     "name": "stdout",
     "output_type": "stream",
     "text": [
      "{'prc2': -0.3102885779653683, 'FMTA': 0.0038469050144866552, 'rsize': 0.28281195968228795, 'FAT': 0.00019295137397865107, 'X11': -0.027388960800913888, 'X24': -0.43930668671275369}\n",
      "dict_keys(['prc2', 'FMTA', 'rsize', 'FAT', 'X11', 'X24'])\n"
     ]
    }
   ],
   "source": [
    "selected_features = {}\n",
    "for idx,name in enumerate(feature_name):\n",
    "    if model_coef[idx] != 0:\n",
    "        selected_features[name] = model_coef[idx]\n",
    "print (selected_features)\n",
    "print (selected_features.keys())"
   ]
  },
  {
   "cell_type": "code",
   "execution_count": 16,
   "metadata": {
    "collapsed": false
   },
   "outputs": [
    {
     "name": "stdout",
     "output_type": "stream",
     "text": [
      "   Group      Rate\n",
      "0      1  0.377510\n",
      "1      2  0.200803\n",
      "2      3  0.112450\n",
      "3      4  0.112450\n",
      "4      5  0.072289\n",
      "5      6  0.056225\n",
      "6      7  0.032129\n",
      "7      8  0.020080\n",
      "8      9  0.008032\n",
      "9     10  0.008032\n",
      "in-sample logistic regression accuracy ratio is 0.547341, auc is 0.773671\n",
      "   Group  Rate\n",
      "0      1   0.2\n",
      "1      2   0.0\n",
      "2      3   0.2\n",
      "3      4   0.0\n",
      "4      5   0.0\n",
      "5      6   0.4\n",
      "6      7   0.0\n",
      "7      8   0.2\n",
      "8      9   0.0\n",
      "9     10   0.0\n",
      "out-sample logistic regression accuracy ratio is 0.106446, auc is 0.553223\n"
     ]
    }
   ],
   "source": [
    "# in-sample logistic regression result \n",
    "from sklearn.metrics import roc_curve\n",
    "from sklearn.metrics import roc_auc_score\n",
    "in_prob_,in_accuracy_ratio = get_prob_auc(lg, x_train,y_train)\n",
    "print (tencile_table(y_train,in_prob_))\n",
    "print ('in-sample logistic regression accuracy ratio is %f, auc is %f' %(in_accuracy_ratio, in_accuracy_ratio/2+0.5))\n",
    "\n",
    "# out-sample logistic regression result \n",
    "from sklearn.metrics import roc_curve\n",
    "from sklearn.metrics import roc_auc_score\n",
    "out_prob_,out_accuracy_ratio = get_prob_auc(lg, x_test,y_test)\n",
    "print (tencile_table(y_test,out_prob_))\n",
    "print ('out-sample logistic regression accuracy ratio is %f, auc is %f' %(out_accuracy_ratio, out_accuracy_ratio/2+0.5))"
   ]
  },
  {
   "cell_type": "code",
   "execution_count": null,
   "metadata": {
    "collapsed": true
   },
   "outputs": [],
   "source": []
  }
 ],
 "metadata": {
  "hide_input": false,
  "kernelspec": {
   "display_name": "Python 3",
   "language": "python",
   "name": "python3"
  },
  "language_info": {
   "codemirror_mode": {
    "name": "ipython",
    "version": 3
   },
   "file_extension": ".py",
   "mimetype": "text/x-python",
   "name": "python",
   "nbconvert_exporter": "python",
   "pygments_lexer": "ipython3",
   "version": "3.5.2"
  }
 },
 "nbformat": 4,
 "nbformat_minor": 0
}
