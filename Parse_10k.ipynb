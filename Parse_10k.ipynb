{
 "cells": [
  {
   "cell_type": "code",
   "execution_count": 6,
   "metadata": {
    "collapsed": true
   },
   "outputs": [],
   "source": [
    "import pandas as pd\n",
    "import numpy as np"
   ]
  },
  {
   "cell_type": "markdown",
   "metadata": {},
   "source": [
    "Last updtated: 2017-01-04, Feng Mai\n",
    "\n",
    "Read and parse the MD&A section from 10K  \n",
    "\n",
    "Input:  \n",
    " - sec_index_complete.csv: an SEC filing index file, generated from prior projects\n",
    " \n",
    "Output:\n",
    "- data/10k_raw.pickle: a pandas pickle file containing gvkey, fyear, and MD&A section "
   ]
  },
  {
   "cell_type": "code",
   "execution_count": 7,
   "metadata": {
    "collapsed": true
   },
   "outputs": [],
   "source": [
    "def try_read_path(path, path_prefix):\n",
    "    \"\"\" Read a file if exists, else return an empty string\"\"\"\n",
    "    content = \"\"\n",
    "    try:\n",
    "        with open(path_prefix + path) as f:\n",
    "            content = f.read()\n",
    "    except:\n",
    "        pass\n",
    "    return content"
   ]
  },
  {
   "cell_type": "code",
   "execution_count": 11,
   "metadata": {
    "collapsed": true
   },
   "outputs": [],
   "source": [
    "sec_10k = pd.read_csv(\"data/10k/sec_index_complete.csv\")\n",
    "sec_10k['fyear'] = sec_10k['fyear'].astype(int)"
   ]
  },
  {
   "cell_type": "code",
   "execution_count": 13,
   "metadata": {
    "collapsed": true
   },
   "outputs": [],
   "source": [
    "# read the mda and quant list corpus\n",
    "mda_list = [try_read_path(path, \"/home/mai/Research/predict insider trading/workspace/data/10k/filings\") for path in sec_10k['mda_path'].tolist()]\n",
    "quant_list = [try_read_path(path, \"/home/mai/Research/predict insider trading/workspace/data/10k/filings\") for path in sec_10k['quant_path'].tolist()]"
   ]
  },
  {
   "cell_type": "code",
   "execution_count": 14,
   "metadata": {
    "collapsed": true
   },
   "outputs": [],
   "source": [
    "# join mda and quant (item 7 and 7a)\n",
    "mda_quant_list = [a+b for a, b in zip(mda_list, quant_list)]\n",
    "del mda_list, quant_list"
   ]
  },
  {
   "cell_type": "code",
   "execution_count": 15,
   "metadata": {
    "collapsed": true
   },
   "outputs": [],
   "source": [
    "# add corpus to dataset\n",
    "sec_10k = sec_10k[['gvkey', 'fyear']]\n",
    "sec_10k['mda_text'] = mda_quant_list"
   ]
  },
  {
   "cell_type": "code",
   "execution_count": 16,
   "metadata": {},
   "outputs": [
    {
     "data": {
      "text/html": [
       "<div>\n",
       "<table border=\"1\" class=\"dataframe\">\n",
       "  <thead>\n",
       "    <tr style=\"text-align: right;\">\n",
       "      <th></th>\n",
       "      <th>gvkey</th>\n",
       "      <th>fyear</th>\n",
       "      <th>mda_text</th>\n",
       "    </tr>\n",
       "  </thead>\n",
       "  <tbody>\n",
       "    <tr>\n",
       "      <th>0</th>\n",
       "      <td>6314</td>\n",
       "      <td>1995</td>\n",
       "      <td>MANAGEMENT'S DISCUSSION AND ANALYSIS OF FINANC...</td>\n",
       "    </tr>\n",
       "    <tr>\n",
       "      <th>1</th>\n",
       "      <td>6314</td>\n",
       "      <td>1996</td>\n",
       "      <td>MANAGEMENT'S DISCUSSION AND ANALYSIS OF FINANC...</td>\n",
       "    </tr>\n",
       "  </tbody>\n",
       "</table>\n",
       "</div>"
      ],
      "text/plain": [
       "   gvkey  fyear                                           mda_text\n",
       "0   6314   1995  MANAGEMENT'S DISCUSSION AND ANALYSIS OF FINANC...\n",
       "1   6314   1996  MANAGEMENT'S DISCUSSION AND ANALYSIS OF FINANC..."
      ]
     },
     "execution_count": 16,
     "metadata": {},
     "output_type": "execute_result"
    }
   ],
   "source": [
    "sec_10k.head(2)"
   ]
  },
  {
   "cell_type": "code",
   "execution_count": 17,
   "metadata": {
    "collapsed": true
   },
   "outputs": [],
   "source": [
    "sec_10k.to_pickle(\"data/10k/10k_raw.pickle\")"
   ]
  }
 ],
 "metadata": {
  "hide_input": false,
  "kernelspec": {
   "display_name": "Python 3",
   "language": "python",
   "name": "python3"
  },
  "language_info": {
   "codemirror_mode": {
    "name": "ipython",
    "version": 3
   },
   "file_extension": ".py",
   "mimetype": "text/x-python",
   "name": "python",
   "nbconvert_exporter": "python",
   "pygments_lexer": "ipython3",
   "version": "3.5.2"
  },
  "toc": {
   "colors": {
    "hover_highlight": "#DAA520",
    "running_highlight": "#FF0000",
    "selected_highlight": "#FFD700"
   },
   "moveMenuLeft": true,
   "nav_menu": {
    "height": "12px",
    "width": "252px"
   },
   "navigate_menu": true,
   "number_sections": true,
   "sideBar": true,
   "threshold": 4,
   "toc_cell": false,
   "toc_section_display": "block",
   "toc_window_display": false
  }
 },
 "nbformat": 4,
 "nbformat_minor": 1
}
